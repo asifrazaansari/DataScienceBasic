{
 "cells": [
  {
   "cell_type": "markdown",
   "id": "d66c1ac5",
   "metadata": {},
   "source": [
    "!pip install numpy"
   ]
  },
  {
   "cell_type": "markdown",
   "id": "4a5bf0cc",
   "metadata": {},
   "source": [
    "## Numpy is fast and takes less space as compare to pyhton"
   ]
  },
  {
   "cell_type": "code",
   "execution_count": 3,
   "id": "6fb61f32",
   "metadata": {},
   "outputs": [],
   "source": [
    "import numpy as np"
   ]
  },
  {
   "cell_type": "code",
   "execution_count": 4,
   "id": "fd264142",
   "metadata": {},
   "outputs": [],
   "source": [
    "l1 = [3,5,6]"
   ]
  },
  {
   "cell_type": "code",
   "execution_count": 5,
   "id": "020858c1",
   "metadata": {},
   "outputs": [],
   "source": [
    "pythlist = list(range(10000000))"
   ]
  },
  {
   "cell_type": "code",
   "execution_count": 7,
   "id": "76225eae",
   "metadata": {},
   "outputs": [
    {
     "name": "stdout",
     "output_type": "stream",
     "text": [
      "Wall time: 8.8 s\n"
     ]
    }
   ],
   "source": [
    "%time for _ in range(10): [item *3 for item in pythlist]"
   ]
  },
  {
   "cell_type": "code",
   "execution_count": 9,
   "id": "2770f1ea",
   "metadata": {},
   "outputs": [],
   "source": [
    "arr = np.arange(10000000)"
   ]
  },
  {
   "cell_type": "code",
   "execution_count": 10,
   "id": "0938a30d",
   "metadata": {},
   "outputs": [
    {
     "name": "stdout",
     "output_type": "stream",
     "text": [
      "Wall time: 159 ms\n"
     ]
    }
   ],
   "source": [
    "%time for _ in range(10): arr = arr*3"
   ]
  },
  {
   "cell_type": "code",
   "execution_count": 11,
   "id": "d5d1443c",
   "metadata": {},
   "outputs": [
    {
     "data": {
      "text/plain": [
       "array([3, 5, 6, 4, 7, 7])"
      ]
     },
     "execution_count": 11,
     "metadata": {},
     "output_type": "execute_result"
    }
   ],
   "source": [
    "np.array([3,5,6,4,7,7])"
   ]
  },
  {
   "cell_type": "code",
   "execution_count": null,
   "id": "860cafa9",
   "metadata": {},
   "outputs": [],
   "source": []
  }
 ],
 "metadata": {
  "kernelspec": {
   "display_name": "Python 3",
   "language": "python",
   "name": "python3"
  },
  "language_info": {
   "codemirror_mode": {
    "name": "ipython",
    "version": 3
   },
   "file_extension": ".py",
   "mimetype": "text/x-python",
   "name": "python",
   "nbconvert_exporter": "python",
   "pygments_lexer": "ipython3",
   "version": "3.8.8"
  }
 },
 "nbformat": 4,
 "nbformat_minor": 5
}
