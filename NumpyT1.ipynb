{
 "cells": [
  {
   "cell_type": "markdown",
   "id": "e377eb7c",
   "metadata": {},
   "source": [
    "## Basic Functions"
   ]
  },
  {
   "cell_type": "code",
   "execution_count": 7,
   "id": "5bd2cf68",
   "metadata": {},
   "outputs": [],
   "source": [
    "import numpy as np"
   ]
  },
  {
   "cell_type": "code",
   "execution_count": 8,
   "id": "e9a2ee90",
   "metadata": {},
   "outputs": [],
   "source": [
    "array1 = np.array([[3,2,5],[4,5,6]])"
   ]
  },
  {
   "cell_type": "code",
   "execution_count": 9,
   "id": "685d7ee2",
   "metadata": {},
   "outputs": [
    {
     "name": "stdout",
     "output_type": "stream",
     "text": [
      "<class 'numpy.ndarray'>\n"
     ]
    }
   ],
   "source": [
    "print(type(array1))"
   ]
  },
  {
   "cell_type": "code",
   "execution_count": 10,
   "id": "cd74deb5",
   "metadata": {},
   "outputs": [
    {
     "data": {
      "text/plain": [
       "(2, 3)"
      ]
     },
     "execution_count": 10,
     "metadata": {},
     "output_type": "execute_result"
    }
   ],
   "source": [
    "array1.shape"
   ]
  },
  {
   "cell_type": "code",
   "execution_count": 11,
   "id": "19dde1af",
   "metadata": {},
   "outputs": [
    {
     "data": {
      "text/plain": [
       "dtype('int32')"
      ]
     },
     "execution_count": 11,
     "metadata": {},
     "output_type": "execute_result"
    }
   ],
   "source": [
    "array1.dtype"
   ]
  },
  {
   "cell_type": "code",
   "execution_count": 12,
   "id": "607b5428",
   "metadata": {},
   "outputs": [
    {
     "data": {
      "text/plain": [
       "array([[0., 0., 0., 0., 0., 0.],\n",
       "       [0., 0., 0., 0., 0., 0.],\n",
       "       [0., 0., 0., 0., 0., 0.],\n",
       "       [0., 0., 0., 0., 0., 0.]])"
      ]
     },
     "execution_count": 12,
     "metadata": {},
     "output_type": "execute_result"
    }
   ],
   "source": [
    "np.zeros((4,6))"
   ]
  },
  {
   "cell_type": "code",
   "execution_count": 13,
   "id": "893ed0d2",
   "metadata": {},
   "outputs": [
    {
     "data": {
      "text/plain": [
       "dtype('float64')"
      ]
     },
     "execution_count": 13,
     "metadata": {},
     "output_type": "execute_result"
    }
   ],
   "source": [
    "np.ones(6).dtype"
   ]
  },
  {
   "cell_type": "code",
   "execution_count": 14,
   "id": "74327751",
   "metadata": {},
   "outputs": [
    {
     "data": {
      "text/plain": [
       "array([[1.19537656e-311, 3.16202013e-322, 0.00000000e+000,\n",
       "        0.00000000e+000, 0.00000000e+000, 1.25715837e-075],\n",
       "       [1.84773919e-076, 7.16707088e-038, 2.25477946e+180,\n",
       "        4.35291781e-061, 8.37822531e+169, 3.92588140e-033]])"
      ]
     },
     "execution_count": 14,
     "metadata": {},
     "output_type": "execute_result"
    }
   ],
   "source": [
    "np.empty((2,6)) #garbage value"
   ]
  },
  {
   "cell_type": "code",
   "execution_count": 15,
   "id": "e51976c4",
   "metadata": {},
   "outputs": [
    {
     "data": {
      "text/plain": [
       "array([[3, 2, 5],\n",
       "       [4, 5, 6]])"
      ]
     },
     "execution_count": 15,
     "metadata": {},
     "output_type": "execute_result"
    }
   ],
   "source": [
    "array1"
   ]
  },
  {
   "cell_type": "code",
   "execution_count": 16,
   "id": "3b8fb6e2",
   "metadata": {},
   "outputs": [
    {
     "data": {
      "text/plain": [
       "array([[ 9,  4, 25],\n",
       "       [16, 25, 36]])"
      ]
     },
     "execution_count": 16,
     "metadata": {},
     "output_type": "execute_result"
    }
   ],
   "source": [
    "array1*array1"
   ]
  },
  {
   "cell_type": "code",
   "execution_count": 17,
   "id": "097fa2ce",
   "metadata": {},
   "outputs": [
    {
     "data": {
      "text/plain": [
       "array([[   27,     4,  3125],\n",
       "       [  256,  3125, 46656]], dtype=int32)"
      ]
     },
     "execution_count": 17,
     "metadata": {},
     "output_type": "execute_result"
    }
   ],
   "source": [
    "array1**array1"
   ]
  },
  {
   "cell_type": "code",
   "execution_count": 18,
   "id": "9dd58a59",
   "metadata": {},
   "outputs": [
    {
     "data": {
      "text/plain": [
       "106387358923716524807713475752456393740167855629859291136"
      ]
     },
     "execution_count": 18,
     "metadata": {},
     "output_type": "execute_result"
    }
   ],
   "source": [
    "36**36"
   ]
  },
  {
   "cell_type": "code",
   "execution_count": 19,
   "id": "89d36d6c",
   "metadata": {},
   "outputs": [],
   "source": [
    "array2 = np.array([[3,2,5],[4,14,6]])"
   ]
  },
  {
   "cell_type": "code",
   "execution_count": 20,
   "id": "b20176ac",
   "metadata": {},
   "outputs": [
    {
     "data": {
      "text/plain": [
       "array([[         27,           4,        3125],\n",
       "       [        256, -1282129920,       46656]], dtype=int32)"
      ]
     },
     "execution_count": 20,
     "metadata": {},
     "output_type": "execute_result"
    }
   ],
   "source": [
    "array2**array2"
   ]
  },
  {
   "cell_type": "code",
   "execution_count": 22,
   "id": "27286215",
   "metadata": {},
   "outputs": [
    {
     "data": {
      "text/plain": [
       "array([[0.33333333, 0.5       , 0.2       ],\n",
       "       [0.25      , 0.07142857, 0.16666667]])"
      ]
     },
     "execution_count": 22,
     "metadata": {},
     "output_type": "execute_result"
    }
   ],
   "source": [
    "1/array2"
   ]
  },
  {
   "cell_type": "markdown",
   "id": "fa663c46",
   "metadata": {},
   "source": [
    "## Slicing"
   ]
  },
  {
   "cell_type": "code",
   "execution_count": 23,
   "id": "c1c31d91",
   "metadata": {},
   "outputs": [
    {
     "data": {
      "text/plain": [
       "array([[3, 2, 5],\n",
       "       [4, 5, 6]])"
      ]
     },
     "execution_count": 23,
     "metadata": {},
     "output_type": "execute_result"
    }
   ],
   "source": [
    "array1"
   ]
  },
  {
   "cell_type": "code",
   "execution_count": 24,
   "id": "0db4eb9a",
   "metadata": {},
   "outputs": [
    {
     "data": {
      "text/plain": [
       "array([], shape=(0, 3), dtype=int32)"
      ]
     },
     "execution_count": 24,
     "metadata": {},
     "output_type": "execute_result"
    }
   ],
   "source": [
    "array1[2:3]"
   ]
  },
  {
   "cell_type": "code",
   "execution_count": 25,
   "id": "19521b24",
   "metadata": {},
   "outputs": [],
   "source": [
    "array3 = np.array([1,2,3,4,9,8,3,7])"
   ]
  },
  {
   "cell_type": "code",
   "execution_count": 26,
   "id": "1b9a05bd",
   "metadata": {},
   "outputs": [],
   "source": [
    "arr = array3[4:6]"
   ]
  },
  {
   "cell_type": "code",
   "execution_count": 27,
   "id": "77df6719",
   "metadata": {},
   "outputs": [
    {
     "data": {
      "text/plain": [
       "array([9, 8])"
      ]
     },
     "execution_count": 27,
     "metadata": {},
     "output_type": "execute_result"
    }
   ],
   "source": [
    "arr"
   ]
  },
  {
   "cell_type": "code",
   "execution_count": 28,
   "id": "f06d1e9e",
   "metadata": {},
   "outputs": [],
   "source": [
    "arr[0] = 6"
   ]
  },
  {
   "cell_type": "code",
   "execution_count": 29,
   "id": "97019eea",
   "metadata": {},
   "outputs": [
    {
     "data": {
      "text/plain": [
       "array([1, 2, 3, 4, 6, 8, 3, 7])"
      ]
     },
     "execution_count": 29,
     "metadata": {},
     "output_type": "execute_result"
    }
   ],
   "source": [
    "array3 # it will change 9 to 6 to avoid put .copy()"
   ]
  },
  {
   "cell_type": "code",
   "execution_count": 30,
   "id": "3c664b41",
   "metadata": {},
   "outputs": [
    {
     "data": {
      "text/plain": [
       "array([6, 8])"
      ]
     },
     "execution_count": 30,
     "metadata": {},
     "output_type": "execute_result"
    }
   ],
   "source": [
    "arr"
   ]
  },
  {
   "cell_type": "code",
   "execution_count": 31,
   "id": "c5a1b5b2",
   "metadata": {},
   "outputs": [],
   "source": [
    "array4 = np.array([1,2,3,7,1,9,4,7])"
   ]
  },
  {
   "cell_type": "code",
   "execution_count": 32,
   "id": "18fb92a7",
   "metadata": {},
   "outputs": [],
   "source": [
    "arr1 = array4[4:6].copy()"
   ]
  },
  {
   "cell_type": "code",
   "execution_count": 33,
   "id": "f6dee701",
   "metadata": {},
   "outputs": [
    {
     "data": {
      "text/plain": [
       "array([6, 8])"
      ]
     },
     "execution_count": 33,
     "metadata": {},
     "output_type": "execute_result"
    }
   ],
   "source": [
    "arr"
   ]
  },
  {
   "cell_type": "code",
   "execution_count": 34,
   "id": "b22c52ad",
   "metadata": {},
   "outputs": [
    {
     "data": {
      "text/plain": [
       "array([1, 9])"
      ]
     },
     "execution_count": 34,
     "metadata": {},
     "output_type": "execute_result"
    }
   ],
   "source": [
    "arr1"
   ]
  },
  {
   "cell_type": "code",
   "execution_count": 35,
   "id": "1c77e19b",
   "metadata": {},
   "outputs": [],
   "source": [
    "arr1[0] = 5"
   ]
  },
  {
   "cell_type": "code",
   "execution_count": 36,
   "id": "e16c2be5",
   "metadata": {},
   "outputs": [
    {
     "data": {
      "text/plain": [
       "array([1, 2, 3, 7, 1, 9, 4, 7])"
      ]
     },
     "execution_count": 36,
     "metadata": {},
     "output_type": "execute_result"
    }
   ],
   "source": [
    "array4"
   ]
  },
  {
   "cell_type": "code",
   "execution_count": 37,
   "id": "ebc92768",
   "metadata": {},
   "outputs": [
    {
     "data": {
      "text/plain": [
       "array([5, 9])"
      ]
     },
     "execution_count": 37,
     "metadata": {},
     "output_type": "execute_result"
    }
   ],
   "source": [
    "arr1"
   ]
  },
  {
   "cell_type": "code",
   "execution_count": null,
   "id": "2e1dd995",
   "metadata": {},
   "outputs": [],
   "source": []
  }
 ],
 "metadata": {
  "kernelspec": {
   "display_name": "Python 3",
   "language": "python",
   "name": "python3"
  },
  "language_info": {
   "codemirror_mode": {
    "name": "ipython",
    "version": 3
   },
   "file_extension": ".py",
   "mimetype": "text/x-python",
   "name": "python",
   "nbconvert_exporter": "python",
   "pygments_lexer": "ipython3",
   "version": "3.8.8"
  }
 },
 "nbformat": 4,
 "nbformat_minor": 5
}
