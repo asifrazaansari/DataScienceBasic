{
 "cells": [
  {
   "cell_type": "code",
   "execution_count": 1,
   "id": "bc8aa47f",
   "metadata": {},
   "outputs": [],
   "source": [
    "import pandas as pd"
   ]
  },
  {
   "cell_type": "code",
   "execution_count": 2,
   "id": "905b021a",
   "metadata": {},
   "outputs": [],
   "source": [
    "df = pd.read_csv('data.csv')"
   ]
  },
  {
   "cell_type": "code",
   "execution_count": 4,
   "id": "66e68ef2",
   "metadata": {},
   "outputs": [
    {
     "data": {
      "text/html": [
       "<div>\n",
       "<style scoped>\n",
       "    .dataframe tbody tr th:only-of-type {\n",
       "        vertical-align: middle;\n",
       "    }\n",
       "\n",
       "    .dataframe tbody tr th {\n",
       "        vertical-align: top;\n",
       "    }\n",
       "\n",
       "    .dataframe thead th {\n",
       "        text-align: right;\n",
       "    }\n",
       "</style>\n",
       "<table border=\"1\" class=\"dataframe\">\n",
       "  <thead>\n",
       "    <tr style=\"text-align: right;\">\n",
       "      <th></th>\n",
       "      <th>Date</th>\n",
       "      <th>Open</th>\n",
       "      <th>High</th>\n",
       "      <th>Low</th>\n",
       "      <th>Close</th>\n",
       "      <th>Shares Traded</th>\n",
       "      <th>Turnover (Rs. Cr)</th>\n",
       "    </tr>\n",
       "  </thead>\n",
       "  <tbody>\n",
       "    <tr>\n",
       "      <th>0</th>\n",
       "      <td>01-Feb-2021</td>\n",
       "      <td>13758.60</td>\n",
       "      <td>14336.35</td>\n",
       "      <td>13661.75</td>\n",
       "      <td>14281.20</td>\n",
       "      <td>870529495</td>\n",
       "      <td>51840.22</td>\n",
       "    </tr>\n",
       "    <tr>\n",
       "      <th>1</th>\n",
       "      <td>02-Feb-2021</td>\n",
       "      <td>14481.10</td>\n",
       "      <td>14731.70</td>\n",
       "      <td>14469.15</td>\n",
       "      <td>14647.85</td>\n",
       "      <td>914965225</td>\n",
       "      <td>58177.74</td>\n",
       "    </tr>\n",
       "    <tr>\n",
       "      <th>2</th>\n",
       "      <td>03-Feb-2021</td>\n",
       "      <td>14754.90</td>\n",
       "      <td>14868.85</td>\n",
       "      <td>14574.15</td>\n",
       "      <td>14789.95</td>\n",
       "      <td>869477087</td>\n",
       "      <td>49312.35</td>\n",
       "    </tr>\n",
       "    <tr>\n",
       "      <th>3</th>\n",
       "      <td>04-Feb-2021</td>\n",
       "      <td>14789.05</td>\n",
       "      <td>14913.70</td>\n",
       "      <td>14714.75</td>\n",
       "      <td>14895.65</td>\n",
       "      <td>884686415</td>\n",
       "      <td>47811.80</td>\n",
       "    </tr>\n",
       "    <tr>\n",
       "      <th>4</th>\n",
       "      <td>05-Feb-2021</td>\n",
       "      <td>14952.60</td>\n",
       "      <td>15014.65</td>\n",
       "      <td>14864.75</td>\n",
       "      <td>14924.25</td>\n",
       "      <td>935629058</td>\n",
       "      <td>54394.63</td>\n",
       "    </tr>\n",
       "  </tbody>\n",
       "</table>\n",
       "</div>"
      ],
      "text/plain": [
       "          Date      Open      High       Low     Close  Shares Traded  \\\n",
       "0  01-Feb-2021  13758.60  14336.35  13661.75  14281.20      870529495   \n",
       "1  02-Feb-2021  14481.10  14731.70  14469.15  14647.85      914965225   \n",
       "2  03-Feb-2021  14754.90  14868.85  14574.15  14789.95      869477087   \n",
       "3  04-Feb-2021  14789.05  14913.70  14714.75  14895.65      884686415   \n",
       "4  05-Feb-2021  14952.60  15014.65  14864.75  14924.25      935629058   \n",
       "\n",
       "   Turnover (Rs. Cr)  \n",
       "0           51840.22  \n",
       "1           58177.74  \n",
       "2           49312.35  \n",
       "3           47811.80  \n",
       "4           54394.63  "
      ]
     },
     "execution_count": 4,
     "metadata": {},
     "output_type": "execute_result"
    }
   ],
   "source": [
    "df.head()"
   ]
  },
  {
   "cell_type": "code",
   "execution_count": 10,
   "id": "d4bce529",
   "metadata": {},
   "outputs": [
    {
     "name": "stdout",
     "output_type": "stream",
     "text": [
      "float64\n"
     ]
    }
   ],
   "source": [
    "print(df['Open'].dtype)"
   ]
  },
  {
   "cell_type": "code",
   "execution_count": 9,
   "id": "d8135636",
   "metadata": {},
   "outputs": [
    {
     "name": "stdout",
     "output_type": "stream",
     "text": [
      "0      01-Feb-2021\n",
      "1      02-Feb-2021\n",
      "2      03-Feb-2021\n",
      "3      04-Feb-2021\n",
      "4      05-Feb-2021\n",
      "          ...     \n",
      "121    29-Jul-2021\n",
      "122    30-Jul-2021\n",
      "123    02-Aug-2021\n",
      "124    03-Aug-2021\n",
      "125    04-Aug-2021\n",
      "Name: Date, Length: 126, dtype: category\n",
      "Categories (126, object): ['01-Apr-2021', '01-Feb-2021', '01-Jul-2021', '01-Jun-2021', ..., '30-Jun-2021', '30-Mar-2021', '31-Mar-2021', '31-May-2021']\n"
     ]
    }
   ],
   "source": [
    "print(df['Date'].astype('category'))"
   ]
  },
  {
   "cell_type": "code",
   "execution_count": null,
   "id": "15772eca",
   "metadata": {},
   "outputs": [],
   "source": []
  }
 ],
 "metadata": {
  "kernelspec": {
   "display_name": "Python 3",
   "language": "python",
   "name": "python3"
  },
  "language_info": {
   "codemirror_mode": {
    "name": "ipython",
    "version": 3
   },
   "file_extension": ".py",
   "mimetype": "text/x-python",
   "name": "python",
   "nbconvert_exporter": "python",
   "pygments_lexer": "ipython3",
   "version": "3.8.8"
  }
 },
 "nbformat": 4,
 "nbformat_minor": 5
}
